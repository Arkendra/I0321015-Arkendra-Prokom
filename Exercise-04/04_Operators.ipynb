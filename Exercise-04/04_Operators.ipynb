{
 "cells": [
  {
   "cell_type": "markdown",
   "metadata": {},
   "source": [
    "***\n",
    "<h1 align=\"center\">Exercise 04</h1>\n",
    " \n",
    "***\n",
    "## Operator Aritmetika\n",
    "Buatlah kode seperti berikut:\n",
    "![](./images/04_operatorAritmetika.png)\n",
    "Ubah variabel **x** dengan **3 digit terakhir nim kalian** dan ubah variabel **y** dengan **tanggal kalian mengerjakan**."
   ]
  },
  {
   "cell_type": "code",
   "execution_count": 2,
   "metadata": {},
   "outputs": [
    {
     "name": "stdout",
     "output_type": "stream",
     "text": [
      "x + y = 19\n",
      "x - y = 11\n",
      "x * y = 60\n",
      "x / y = 3.75\n",
      "x // y = 3\n",
      "x ** y = 50625\n"
     ]
    }
   ],
   "source": [
    "# Kerjakan disini\n",
    "\n",
    "# Jangan hapus kode di bawah ini \n",
    "%reset -f\n",
    "x = 15\n",
    "y = 4\n",
    "\n",
    "print(\"x + y =\", x+y)\n",
    "print(\"x - y =\", x-y)\n",
    "print(\"x * y =\", x*y)\n",
    "print(\"x / y =\", x/y)\n",
    "print(\"x // y =\", x//y)\n",
    "print(\"x ** y =\", x**y)\n",
    "\n"
   ]
  },
  {
   "cell_type": "markdown",
   "metadata": {},
   "source": [
    "## Operator Relasional/*Comparison*\n",
    "Buatlah kode seperti berikut dan jalankan!\n",
    "![](./images/04_operatorRelasional.png)\n"
   ]
  },
  {
   "cell_type": "code",
   "execution_count": 3,
   "metadata": {},
   "outputs": [
    {
     "name": "stdout",
     "output_type": "stream",
     "text": [
      "x > y is False\n",
      "x < y is True\n",
      "x == y is False\n",
      "x != y is True\n",
      "x >= y is False\n",
      "x <= y is True\n"
     ]
    }
   ],
   "source": [
    "# Kerjakan disini\n",
    "\n",
    "# Jangan hapus kode di bawah ini \n",
    "%reset -f\n",
    "x = 15\n",
    "x = 10\n",
    "y = 12\n",
    "\n",
    "print(\"x > y is\", x>y)\n",
    "print(\"x < y is\", x<y)\n",
    "print(\"x == y is\", x==y)\n",
    "print(\"x != y is\", x!=y)\n",
    "print(\"x >= y is\", x>=y)\n",
    "print(\"x <= y is\", x<=y)"
   ]
  },
  {
   "cell_type": "markdown",
   "metadata": {},
   "source": [
    "## Operator Logika\n",
    "Lengkapi kode program yang rumpang dibawah!\n"
   ]
  },
  {
   "cell_type": "code",
   "execution_count": 4,
   "metadata": {},
   "outputs": [
    {
     "name": "stdout",
     "output_type": "stream",
     "text": [
      "x > 5 and 10 < y is True\n",
      "x or y more than or equal to 10 is 7\n",
      "x or y not more than or equal to 10 is False\n"
     ]
    }
   ],
   "source": [
    "x = 7\n",
    "y = 20\n",
    "print('x > 5 and 10 < y is',x>5 and 10 < y) \n",
    "print('x or y more than or equal to 10 is', x or y)\n",
    "print('x or y not more than or equal to 10 is',not( x or y))\n",
    "\n",
    "%reset -f"
   ]
  },
  {
   "cell_type": "markdown",
   "metadata": {},
   "source": [
    "## Operator String\n",
    "\n",
    "### 1. Concat strings\n",
    "Buat kode program pada cell selanjutnya seperti contoh berikut ini dengan mengubah variabel **str1** dengan nama depan kalian dan **str2** dengan nama belakang kalian!\n",
    "![](./images/04_concatStrings.png)"
   ]
  },
  {
   "cell_type": "code",
   "execution_count": 8,
   "metadata": {},
   "outputs": [
    {
     "name": "stdout",
     "output_type": "stream",
     "text": [
      "Arkendra Anjar Saputra\n"
     ]
    }
   ],
   "source": [
    "# Kerjakan disini\n",
    "\n",
    "# Jangan hapus kode di bawah ini \n",
    "%reset -f\n",
    "str1 = \"Arkendra\"\n",
    "str2 = \"Anjar Saputra\"\n",
    "# concat\n",
    "result = str1 + \" \" + str2\n",
    "#output\n",
    "print(result)"
   ]
  },
  {
   "cell_type": "markdown",
   "metadata": {},
   "source": [
    "### 2. Replikasi strings\n",
    "Buat kode program pada cell selanjutnya seperti contoh berikut ini!\n",
    "![](./images/04_replikasiStrings.png)"
   ]
  },
  {
   "cell_type": "code",
   "execution_count": 9,
   "metadata": {},
   "outputs": [
    {
     "name": "stdout",
     "output_type": "stream",
     "text": [
      "WKWKWK\n"
     ]
    }
   ],
   "source": [
    "# Kerjakan disini\n",
    "\n",
    "# Jangan hapus kode di bawah ini \n",
    "%reset -f\n",
    "str = \"WK\"\n",
    "#replace\n",
    "result = str * 3\n",
    "#output\n",
    "print(result)\n"
   ]
  },
  {
   "cell_type": "markdown",
   "metadata": {},
   "source": [
    "### 3. Pengecekan membership– in\n",
    "Buat kode program pada cell selanjutnya seperti contoh berikut ini!\n",
    "![](./images/04_pengecekanMembership-in.png)\n",
    "Kemudian jalankan program yang telah dibuat."
   ]
  },
  {
   "cell_type": "code",
   "execution_count": 16,
   "metadata": {},
   "outputs": [
    {
     "name": "stdout",
     "output_type": "stream",
     "text": [
      "lo is present in the string Hello World\n"
     ]
    }
   ],
   "source": [
    "# Kerjakan disini\n",
    "\n",
    "# Jangan hapus kode di bawah ini \n",
    "%reset -f\n",
    "needle = \"lo\"\n",
    "haystack = \"Hello World\"\n",
    "#check\n",
    "if needle in haystack:\n",
    "    print(needle, \"is present in the string\", haystack)\n",
    "else:\n",
    "    print(\"not found\")"
   ]
  },
  {
   "cell_type": "markdown",
   "metadata": {},
   "source": [
    "### 4. Checking membership - not in\n",
    "Buat kode program pada cell selanjutnya seperti contoh berikut ini!\n",
    "![](./images/04_pengecekanMembership-out.png)\n",
    "Kemudian jalankan program yang dibuat."
   ]
  },
  {
   "cell_type": "code",
   "execution_count": 17,
   "metadata": {},
   "outputs": [
    {
     "name": "stdout",
     "output_type": "stream",
     "text": [
      "Not Found\n"
     ]
    }
   ],
   "source": [
    "# Kerjakan disini\n",
    "\n",
    "# Jangan hapus kode di bawah ini \n",
    "%reset -f\n",
    "needle = \"HA\"\n",
    "haystack = \"Hello World\"\n",
    "#check\n",
    "if needle in haystack:\n",
    "    print(needle, \"is present in the string\", haystack)\n",
    "else:\n",
    "    print(\"Not Found\")"
   ]
  },
  {
   "cell_type": "markdown",
   "metadata": {},
   "source": [
    "### 5. Mengakses karakter dalam string\n",
    "Buat kode program pada cell selanjutnya seperti contoh berikut ini dengan mengubah variabel **str** dengan nama depan kalian!\n",
    "![](./images/04_mengaksesString.png)\n",
    "Kemudian jalankan program yang dibuat."
   ]
  },
  {
   "cell_type": "code",
   "execution_count": 21,
   "metadata": {},
   "outputs": [
    {
     "name": "stdout",
     "output_type": "stream",
     "text": [
      "r\n"
     ]
    }
   ],
   "source": [
    "# Kerjakan disini\n",
    "#string\n",
    "str = \"Arkendra\"\n",
    "#character\n",
    "ch = str[1]\n",
    "#output\n",
    "print(ch)\n",
    "# Jangan hapus kode di bawah ini \n",
    "%reset -f"
   ]
  },
  {
   "cell_type": "markdown",
   "metadata": {},
   "source": [
    "### 6. Substring\n",
    "Berdasarkan contoh di bawah, buatlah program yang memberi output **3** huruf terakhir dari **nama depan** kalian!\n",
    "![](./images/04_substring.png)\n",
    "Kemudian jalankan program yang dibuat."
   ]
  },
  {
   "cell_type": "code",
   "execution_count": 23,
   "metadata": {},
   "outputs": [
    {
     "name": "stdout",
     "output_type": "stream",
     "text": [
      "lo\n"
     ]
    }
   ],
   "source": [
    "# Kerjakan disini\n",
    "str = \"Hello World\"\n",
    "#subtring\n",
    "substr = str[3:5]\n",
    "#output\n",
    "print(substr)\n",
    "\n",
    "\n",
    "# Jangan hapus kode di bawah ini \n",
    "%reset -f"
   ]
  },
  {
   "cell_type": "markdown",
   "metadata": {},
   "source": [
    "### 7. Skipping characters\n",
    "Berdasarkan contoh di bawah, buatlah program yang memberi output substring berindeks ganjil dari string **nama kota asal kalian**!\n",
    "![](./images/04_skipping.png)\n",
    "Kemudian jalankan program yang dibuat."
   ]
  },
  {
   "cell_type": "code",
   "execution_count": 24,
   "metadata": {},
   "outputs": [
    {
     "name": "stdout",
     "output_type": "stream",
     "text": [
      "HloWrd\n"
     ]
    }
   ],
   "source": [
    "# Kerjakan disini\n",
    "string: \"Hello World\"\n",
    "str = \"Hello World\"\n",
    "new_str = str[0::2]\n",
    "print(new_str)\n",
    "# Jangan hapus kode di bawah ini \n",
    "%reset -f"
   ]
  },
  {
   "cell_type": "markdown",
   "metadata": {},
   "source": [
    "### 8. Reverse string\n",
    "Berdasarkan contoh di bawah, buatlah program yang membalikkan string **nama kota asal kalian**!\n",
    "![](./images/04_reverse.png)\n",
    "Kemudian jalankan program yang dibuat."
   ]
  },
  {
   "cell_type": "code",
   "execution_count": 25,
   "metadata": {},
   "outputs": [
    {
     "name": "stdout",
     "output_type": "stream",
     "text": [
      "dlroW olleH\n"
     ]
    }
   ],
   "source": [
    "# Kerjakan disini\n",
    "str = \"Hello World\"\n",
    "result = str[::-1]\n",
    "print(result)\n",
    "\n",
    "# Jangan hapus kode di bawah ini \n",
    "%reset -f"
   ]
  },
  {
   "cell_type": "markdown",
   "metadata": {},
   "source": [
    "## Operator Bitwise"
   ]
  },
  {
   "cell_type": "markdown",
   "metadata": {},
   "source": [
    "Buat ulang kode program di bawah ini!\n",
    "![](./images/04_operatorBitwise.png)\n",
    "Kemudian jalankan program yang dibuat."
   ]
  },
  {
   "cell_type": "code",
   "execution_count": 27,
   "metadata": {},
   "outputs": [
    {
     "name": "stdout",
     "output_type": "stream",
     "text": [
      "a & b =  0\n",
      "a | b =  14\n",
      "~a =  -11\n",
      "a ^ b =  14\n"
     ]
    }
   ],
   "source": [
    "# Kerjakan disini\n",
    "a = 10\n",
    "b = 4\n",
    "\n",
    "print(\"a & b = \", a & b)\n",
    "print(\"a | b = \", a | b)\n",
    "print(\"~a = \", ~a)\n",
    "print(\"a ^ b = \", a ^ b)\n",
    "\n",
    "# Jangan hapus kode di bawah ini \n",
    "%reset -f"
   ]
  },
  {
   "cell_type": "markdown",
   "metadata": {},
   "source": [
    "### Membuat kode\n",
    "Untuk sebuah skenario berikut, tulis program pada Cell Python dibawah.\n",
    "\n",
    "Untuk mendaftar kursus online, calon peserta harus berusia minimal 21 tahun dan telah lulus tes substansi. Pengguna akan ditanyai pertanyaan-pertanyaan berikut:\n",
    "1. Berapa usia anda?\n",
    "2. Apakah anda lulus tes substansi (Y/T)?\n",
    "\n",
    "Tanggapan/response dari pertanyaan berupa string berikut:\n",
    "1. “Anda dapat mendaftar di kursus.”, atau\n",
    "2. “Anda tidak dapat mendaftar di kursus.”"
   ]
  },
  {
   "cell_type": "code",
   "execution_count": 28,
   "metadata": {},
   "outputs": [
    {
     "name": "stdout",
     "output_type": "stream",
     "text": [
      "Berapa usia anda?\n"
     ]
    },
    {
     "ename": "KeyboardInterrupt",
     "evalue": "Interrupted by user",
     "output_type": "error",
     "traceback": [
      "\u001b[1;31m---------------------------------------------------------------------------\u001b[0m",
      "\u001b[1;31mKeyboardInterrupt\u001b[0m                         Traceback (most recent call last)",
      "\u001b[1;32md:\\Kuliah Semester 2\\Praktikum Prokom\\Tugas Prokom\\I0321015-Arkendra-Prokom\\Exercise-04\\04_Operators.ipynb Cell 27'\u001b[0m in \u001b[0;36m<cell line: 3>\u001b[1;34m()\u001b[0m\n\u001b[0;32m      <a href='vscode-notebook-cell:/d%3A/Kuliah%20Semester%202/Praktikum%20Prokom/Tugas%20Prokom/I0321015-Arkendra-Prokom/Exercise-04/04_Operators.ipynb#ch0000026?line=0'>1</a>\u001b[0m \u001b[39m#Buat kode disini\u001b[39;00m\n\u001b[0;32m      <a href='vscode-notebook-cell:/d%3A/Kuliah%20Semester%202/Praktikum%20Prokom/Tugas%20Prokom/I0321015-Arkendra-Prokom/Exercise-04/04_Operators.ipynb#ch0000026?line=1'>2</a>\u001b[0m \u001b[39mprint\u001b[39m(\u001b[39m\"\u001b[39m\u001b[39mBerapa usia anda?\u001b[39m\u001b[39m\"\u001b[39m)\n\u001b[1;32m----> <a href='vscode-notebook-cell:/d%3A/Kuliah%20Semester%202/Praktikum%20Prokom/Tugas%20Prokom/I0321015-Arkendra-Prokom/Exercise-04/04_Operators.ipynb#ch0000026?line=2'>3</a>\u001b[0m usia \u001b[39m=\u001b[39m \u001b[39mfloat\u001b[39m(\u001b[39minput\u001b[39;49m(\u001b[39m\"\u001b[39;49m\u001b[39mMasukkan usia anda: \u001b[39;49m\u001b[39m\"\u001b[39;49m))\n\u001b[0;32m      <a href='vscode-notebook-cell:/d%3A/Kuliah%20Semester%202/Praktikum%20Prokom/Tugas%20Prokom/I0321015-Arkendra-Prokom/Exercise-04/04_Operators.ipynb#ch0000026?line=3'>4</a>\u001b[0m \u001b[39mprint\u001b[39m(usia)\n\u001b[0;32m      <a href='vscode-notebook-cell:/d%3A/Kuliah%20Semester%202/Praktikum%20Prokom/Tugas%20Prokom/I0321015-Arkendra-Prokom/Exercise-04/04_Operators.ipynb#ch0000026?line=4'>5</a>\u001b[0m \u001b[39mprint\u001b[39m(\u001b[39m\"\u001b[39m\u001b[39mApakah anda lulus tes substansi?\u001b[39m\u001b[39m\"\u001b[39m)\n",
      "File \u001b[1;32m~\\AppData\\Roaming\\Python\\Python39\\site-packages\\ipykernel\\kernelbase.py:1075\u001b[0m, in \u001b[0;36mKernel.raw_input\u001b[1;34m(self, prompt)\u001b[0m\n\u001b[0;32m   <a href='file:///c%3A/Users/Arkendra%20Anjar%20S/AppData/Roaming/Python/Python39/site-packages/ipykernel/kernelbase.py?line=1070'>1071</a>\u001b[0m \u001b[39mif\u001b[39;00m \u001b[39mnot\u001b[39;00m \u001b[39mself\u001b[39m\u001b[39m.\u001b[39m_allow_stdin:\n\u001b[0;32m   <a href='file:///c%3A/Users/Arkendra%20Anjar%20S/AppData/Roaming/Python/Python39/site-packages/ipykernel/kernelbase.py?line=1071'>1072</a>\u001b[0m     \u001b[39mraise\u001b[39;00m StdinNotImplementedError(\n\u001b[0;32m   <a href='file:///c%3A/Users/Arkendra%20Anjar%20S/AppData/Roaming/Python/Python39/site-packages/ipykernel/kernelbase.py?line=1072'>1073</a>\u001b[0m         \u001b[39m\"\u001b[39m\u001b[39mraw_input was called, but this frontend does not support input requests.\u001b[39m\u001b[39m\"\u001b[39m\n\u001b[0;32m   <a href='file:///c%3A/Users/Arkendra%20Anjar%20S/AppData/Roaming/Python/Python39/site-packages/ipykernel/kernelbase.py?line=1073'>1074</a>\u001b[0m     )\n\u001b[1;32m-> <a href='file:///c%3A/Users/Arkendra%20Anjar%20S/AppData/Roaming/Python/Python39/site-packages/ipykernel/kernelbase.py?line=1074'>1075</a>\u001b[0m \u001b[39mreturn\u001b[39;00m \u001b[39mself\u001b[39;49m\u001b[39m.\u001b[39;49m_input_request(\n\u001b[0;32m   <a href='file:///c%3A/Users/Arkendra%20Anjar%20S/AppData/Roaming/Python/Python39/site-packages/ipykernel/kernelbase.py?line=1075'>1076</a>\u001b[0m     \u001b[39mstr\u001b[39;49m(prompt),\n\u001b[0;32m   <a href='file:///c%3A/Users/Arkendra%20Anjar%20S/AppData/Roaming/Python/Python39/site-packages/ipykernel/kernelbase.py?line=1076'>1077</a>\u001b[0m     \u001b[39mself\u001b[39;49m\u001b[39m.\u001b[39;49m_parent_ident[\u001b[39m\"\u001b[39;49m\u001b[39mshell\u001b[39;49m\u001b[39m\"\u001b[39;49m],\n\u001b[0;32m   <a href='file:///c%3A/Users/Arkendra%20Anjar%20S/AppData/Roaming/Python/Python39/site-packages/ipykernel/kernelbase.py?line=1077'>1078</a>\u001b[0m     \u001b[39mself\u001b[39;49m\u001b[39m.\u001b[39;49mget_parent(\u001b[39m\"\u001b[39;49m\u001b[39mshell\u001b[39;49m\u001b[39m\"\u001b[39;49m),\n\u001b[0;32m   <a href='file:///c%3A/Users/Arkendra%20Anjar%20S/AppData/Roaming/Python/Python39/site-packages/ipykernel/kernelbase.py?line=1078'>1079</a>\u001b[0m     password\u001b[39m=\u001b[39;49m\u001b[39mFalse\u001b[39;49;00m,\n\u001b[0;32m   <a href='file:///c%3A/Users/Arkendra%20Anjar%20S/AppData/Roaming/Python/Python39/site-packages/ipykernel/kernelbase.py?line=1079'>1080</a>\u001b[0m )\n",
      "File \u001b[1;32m~\\AppData\\Roaming\\Python\\Python39\\site-packages\\ipykernel\\kernelbase.py:1120\u001b[0m, in \u001b[0;36mKernel._input_request\u001b[1;34m(self, prompt, ident, parent, password)\u001b[0m\n\u001b[0;32m   <a href='file:///c%3A/Users/Arkendra%20Anjar%20S/AppData/Roaming/Python/Python39/site-packages/ipykernel/kernelbase.py?line=1116'>1117</a>\u001b[0m             \u001b[39mbreak\u001b[39;00m\n\u001b[0;32m   <a href='file:///c%3A/Users/Arkendra%20Anjar%20S/AppData/Roaming/Python/Python39/site-packages/ipykernel/kernelbase.py?line=1117'>1118</a>\u001b[0m \u001b[39mexcept\u001b[39;00m \u001b[39mKeyboardInterrupt\u001b[39;00m:\n\u001b[0;32m   <a href='file:///c%3A/Users/Arkendra%20Anjar%20S/AppData/Roaming/Python/Python39/site-packages/ipykernel/kernelbase.py?line=1118'>1119</a>\u001b[0m     \u001b[39m# re-raise KeyboardInterrupt, to truncate traceback\u001b[39;00m\n\u001b[1;32m-> <a href='file:///c%3A/Users/Arkendra%20Anjar%20S/AppData/Roaming/Python/Python39/site-packages/ipykernel/kernelbase.py?line=1119'>1120</a>\u001b[0m     \u001b[39mraise\u001b[39;00m \u001b[39mKeyboardInterrupt\u001b[39;00m(\u001b[39m\"\u001b[39m\u001b[39mInterrupted by user\u001b[39m\u001b[39m\"\u001b[39m) \u001b[39mfrom\u001b[39;00m \u001b[39mNone\u001b[39m\n\u001b[0;32m   <a href='file:///c%3A/Users/Arkendra%20Anjar%20S/AppData/Roaming/Python/Python39/site-packages/ipykernel/kernelbase.py?line=1120'>1121</a>\u001b[0m \u001b[39mexcept\u001b[39;00m \u001b[39mException\u001b[39;00m:\n\u001b[0;32m   <a href='file:///c%3A/Users/Arkendra%20Anjar%20S/AppData/Roaming/Python/Python39/site-packages/ipykernel/kernelbase.py?line=1121'>1122</a>\u001b[0m     \u001b[39mself\u001b[39m\u001b[39m.\u001b[39mlog\u001b[39m.\u001b[39mwarning(\u001b[39m\"\u001b[39m\u001b[39mInvalid Message:\u001b[39m\u001b[39m\"\u001b[39m, exc_info\u001b[39m=\u001b[39m\u001b[39mTrue\u001b[39;00m)\n",
      "\u001b[1;31mKeyboardInterrupt\u001b[0m: Interrupted by user"
     ]
    }
   ],
   "source": [
    "#Buat kode disini\n",
    "print(\"Berapa usia anda?\")\n",
    "usia = float(input(\"Masukkan usia anda: \"))\n",
    "print(usia)\n",
    "print(\"Apakah anda lulus tes substansi?\")\n",
    "print('Masukkan \"Y\" untuk Ya, masukkan \"T\" untuk tidak')\n",
    "kelulusan = str(input(\"Apakah anda lulus tes substansi (Y/T): \"))\n",
    "print(kelulusan)\n",
    "\n",
    "if (usia >= 21 and (kelulusan==(\"Y\") or kelulusan==(\"y\"))):\n",
    "    print(\"Anda dapat mendaftar di kursus\")\n",
    "else:\n",
    "    print(\"Anda tidak dapat mendaftar di kursus\")"
   ]
  },
  {
   "cell_type": "markdown",
   "metadata": {},
   "source": [
    "### Cara Pengumpulan\n",
    "\n",
    "1. Buka *New Terminal*\n",
    "2. Pastikan *path* Terminal adalah folder repositori kalian (NIM-Nama-Prokom).\n",
    "3. Tambahkan file yang akan ditrack dengan `git add <nama file>`. Nama file bisa diubah . (titik) yang artinya semua file dalam folder akan ditrack.\n",
    "4. Lakukan commit perubahan dengan `git commit -m <deskripsi>`.\n",
    "5. Lakukan push dengan `git push -u origin <nama branch>`. Nama branch dapat diketahui dengan `git branch`.\n",
    "6. Pastikan Exercise-02 telah terupload dan dapat diakses di repositori dengan mengaksesnya di browser."
   ]
  },
  {
   "cell_type": "markdown",
   "metadata": {},
   "source": [
    "***\n",
    "<h1 align=\"center\">Well Done!!!</h1>\n",
    "\n",
    "***"
   ]
  }
 ],
 "metadata": {
  "interpreter": {
   "hash": "ac59ebe37160ed0dfa835113d9b8498d9f09ceb179beaac4002f036b9467c963"
  },
  "kernelspec": {
   "display_name": "Python 3.9.8 64-bit",
   "language": "python",
   "name": "python3"
  },
  "language_info": {
   "codemirror_mode": {
    "name": "ipython",
    "version": 3
   },
   "file_extension": ".py",
   "mimetype": "text/x-python",
   "name": "python",
   "nbconvert_exporter": "python",
   "pygments_lexer": "ipython3",
   "version": "3.9.7"
  },
  "orig_nbformat": 4
 },
 "nbformat": 4,
 "nbformat_minor": 2
}
