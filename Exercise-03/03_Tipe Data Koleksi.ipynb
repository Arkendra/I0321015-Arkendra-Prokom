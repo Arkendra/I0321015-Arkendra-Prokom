{
 "cells": [
  {
   "cell_type": "markdown",
   "metadata": {},
   "source": [
    "# Exercise 03  \n",
    "### LIST  \n",
    "Berikut merupakan sejumlah latihan untuk kalian dalam praktek programa komputer Modul 3.  \n",
    "Pertama buatlah sebuah list dengan nama variabel \"biodata\" dan isikan elemen terdiri dari :\n",
    "* Nama\n",
    "* NIM\n",
    "* Umur\n",
    "* Kota Asal\n",
    "* Hobi  \n",
    "\n",
    "Berikut contoh yang kami berikan\n"
   ]
  },
  {
   "cell_type": "markdown",
   "metadata": {},
   "source": [
    "![](./image/1.png)"
   ]
  },
  {
   "cell_type": "code",
   "execution_count": 1,
   "metadata": {},
   "outputs": [],
   "source": [
    "#SOAL-1\n",
    "#BUATLAH LIST KALIAN DISINI\n",
    "biodata = [\"Arkendra\", \"I0321015\", 19, \"Gunungkidul\", \"Futsal\"]"
   ]
  },
  {
   "cell_type": "markdown",
   "metadata": {},
   "source": [
    "Sekarang list kalian sudah terdefinisi ke dalam sebuah variabel.  \n",
    "Selanjutnya adalah contoh unuk mengakses elemen list.  \n",
    "  \n",
    "![](./image/2.png)"
   ]
  },
  {
   "cell_type": "code",
   "execution_count": 2,
   "metadata": {},
   "outputs": [
    {
     "name": "stdout",
     "output_type": "stream",
     "text": [
      "BIODATA\n",
      "_________\n",
      "Nama\t : Arkendra \n",
      "NIM : I0321015 \n",
      "USIA : 19 \n",
      "Asal : Gunungkidul \n",
      "Hobi Futsal\n"
     ]
    }
   ],
   "source": [
    "#SOAL-2\n",
    "#TULISKAN KEMBALI KODE DIATAS SESUAI DATA KALIAN MASING-MASING DISINI\n",
    "print(\"BIODATA\\n_________\\nNama\\t :\", biodata[0], \"\\nNIM :\", biodata[1], \"\\nUSIA :\", biodata[2], \"\\nAsal :\", biodata[3], \"\\nHobi :\", biodata[4])"
   ]
  },
  {
   "cell_type": "markdown",
   "metadata": {},
   "source": [
    "Ternyata kita ingin menuliskan hobi lebih dari 1, maka selanjutnya kita akan mengubah hobi kita yang ada di list. Karena lebih dari 1 maka kita akan mengubah elemen hobi menjadi list of list.  \n",
    "\n",
    "![](./image/3.png)\n"
   ]
  },
  {
   "cell_type": "code",
   "execution_count": 18,
   "metadata": {},
   "outputs": [
    {
     "name": "stdout",
     "output_type": "stream",
     "text": [
      "['Arkendra', 19, 'Gunungkidul', ['futsal', 'Musik', 'Game']]\n"
     ]
    }
   ],
   "source": [
    "#SOAL-3\n",
    "#TULISKAN KEMBALI KODE DIATAS SESUAI HOBI KALIAN DISINI\n",
    "biodata[3] = [\"futsal\", \"Musik\", \"Game\"]\n",
    "print(biodata)"
   ]
  },
  {
   "cell_type": "markdown",
   "metadata": {},
   "source": [
    "NIM merupakan data privasi di kondisi tertentu, maka sebaiknya kita menghapus nya.  \n",
    "\n",
    "![](./image/4.png)\n"
   ]
  },
  {
   "cell_type": "code",
   "execution_count": 4,
   "metadata": {},
   "outputs": [
    {
     "name": "stdout",
     "output_type": "stream",
     "text": [
      "['Arkendra', 19, 'Gunungkidul', ['futsal', 'Musik', 'Game']]\n"
     ]
    }
   ],
   "source": [
    "#SOAL-4\n",
    "#KERJAKAN PUNYA KALIAN DISINI\n",
    "biodata.remove(\"I0321015\")\n",
    "print(biodata)"
   ]
  },
  {
   "cell_type": "markdown",
   "metadata": {},
   "source": [
    "Untuk report final tuliskan kembali kode dengan format output seperti SOAL-2, namun dengan penyesuaian terhadap perubahan yang telah kalian lakukan sebelumnya."
   ]
  },
  {
   "cell_type": "code",
   "execution_count": 5,
   "metadata": {},
   "outputs": [
    {
     "name": "stdout",
     "output_type": "stream",
     "text": [
      "BIODATA\n",
      "_________\n",
      "Nama\t : Arkendra \n",
      "USIA : 19 \n",
      "Asal : Gunungkidul \n",
      "Hobi : ['futsal', 'Musik', 'Game']\n"
     ]
    }
   ],
   "source": [
    "#SOAL-5\n",
    "#Kerjakan disini\n",
    "print(\"BIODATA\\n_________\\nNama\\t :\", biodata[0], \"\\nUSIA :\", biodata[1], \"\\nAsal :\", biodata[2], \"\\nHobi :\", biodata[3])"
   ]
  },
  {
   "cell_type": "markdown",
   "metadata": {},
   "source": [
    "### DICTIONARY"
   ]
  },
  {
   "cell_type": "markdown",
   "metadata": {},
   "source": [
    "Berikut merupakan latihan mengenai tipe data dictionary.  \n",
    "Selamat berlatih.  \n",
    "Semangat!!!."
   ]
  },
  {
   "cell_type": "code",
   "execution_count": 23,
   "metadata": {},
   "outputs": [
    {
     "name": "stdout",
     "output_type": "stream",
     "text": [
      "Nama Lengkap: Arkendra Anjar Saputra\n"
     ]
    },
    {
     "ename": "TypeError",
     "evalue": "'builtin_function_or_method' object does not support item assignment",
     "output_type": "error",
     "traceback": [
      "\u001b[1;31m---------------------------------------------------------------------------\u001b[0m",
      "\u001b[1;31mTypeError\u001b[0m                                 Traceback (most recent call last)",
      "\u001b[1;32md:\\Kuliah Semester 2\\Praktikum Prokom\\Tugas Prokom\\I0321015-Arkendra-Prokom\\Exercise-03\\03_Tipe Data Koleksi.ipynb Cell 14'\u001b[0m in \u001b[0;36m<cell line: 6>\u001b[1;34m()\u001b[0m\n\u001b[0;32m      <a href='vscode-notebook-cell:/d%3A/Kuliah%20Semester%202/Praktikum%20Prokom/Tugas%20Prokom/I0321015-Arkendra-Prokom/Exercise-03/03_Tipe%20Data%20Koleksi.ipynb#ch0000013?line=2'>3</a>\u001b[0m \u001b[39mprint\u001b[39m(\u001b[39m'\u001b[39m\u001b[39mNama Lengkap: \u001b[39m\u001b[39m'\u001b[39m \u001b[39m+\u001b[39m biodata[\u001b[39m0\u001b[39m] \u001b[39m+\u001b[39m \u001b[39m'\u001b[39m\u001b[39m \u001b[39m\u001b[39m'\u001b[39m \u001b[39m+\u001b[39m biodata[\u001b[39m1\u001b[39m])\n\u001b[0;32m      <a href='vscode-notebook-cell:/d%3A/Kuliah%20Semester%202/Praktikum%20Prokom/Tugas%20Prokom/I0321015-Arkendra-Prokom/Exercise-03/03_Tipe%20Data%20Koleksi.ipynb#ch0000013?line=4'>5</a>\u001b[0m \u001b[39m#MENAMBAHKAN KEY&VALUE \"PRODI\" dan \"HOBI\" MASING-MASING\u001b[39;00m\n\u001b[1;32m----> <a href='vscode-notebook-cell:/d%3A/Kuliah%20Semester%202/Praktikum%20Prokom/Tugas%20Prokom/I0321015-Arkendra-Prokom/Exercise-03/03_Tipe%20Data%20Koleksi.ipynb#ch0000013?line=5'>6</a>\u001b[0m biodata\u001b[39m.\u001b[39mappend[\u001b[39m5\u001b[39m] \u001b[39m=\u001b[39m \u001b[39m'\u001b[39m\u001b[39mTeknik Industri\u001b[39m\u001b[39m'\u001b[39m\n\u001b[0;32m      <a href='vscode-notebook-cell:/d%3A/Kuliah%20Semester%202/Praktikum%20Prokom/Tugas%20Prokom/I0321015-Arkendra-Prokom/Exercise-03/03_Tipe%20Data%20Koleksi.ipynb#ch0000013?line=6'>7</a>\u001b[0m \u001b[39mprint\u001b[39m(biodata)\n\u001b[0;32m      <a href='vscode-notebook-cell:/d%3A/Kuliah%20Semester%202/Praktikum%20Prokom/Tugas%20Prokom/I0321015-Arkendra-Prokom/Exercise-03/03_Tipe%20Data%20Koleksi.ipynb#ch0000013?line=8'>9</a>\u001b[0m \u001b[39m#MENGUBAH VALUE PADA SEBUAH DICTIONARY\u001b[39;00m\n",
      "\u001b[1;31mTypeError\u001b[0m: 'builtin_function_or_method' object does not support item assignment"
     ]
    }
   ],
   "source": [
    "#SILAHKAN ISI CODE RUMPANG BERIKUT SESUAI KONDISI KALIAN\n",
    "biodata = ['Arkendra','Anjar Saputra',19,'Gunungkidul','Futsal']\n",
    "print('Nama Lengkap: ' + biodata[0] + ' ' + biodata[1])\n",
    "\n",
    "#MENAMBAHKAN KEY&VALUE \"PRODI\" dan \"HOBI\" MASING-MASING\n",
    "biodata.append[5] = 'Teknik Industri'\n",
    "print(biodata)\n",
    "\n",
    "#MENGUBAH VALUE PADA SEBUAH DICTIONARY\n",
    "biodata[4] = 'Main Game'\n",
    "print(biodata)\n",
    "\n",
    "#MENGHAPUS SALAH SATU KEY-VALUE PAIRS\n",
    "biodata.remove['kota_asal']\n",
    "print(biodata)\n",
    "\n",
    "\n",
    "\n",
    "\n"
   ]
  },
  {
   "cell_type": "markdown",
   "metadata": {},
   "source": [
    "### Cara Pengumpulan\n",
    "\n",
    "1. Buka *New Terminal*\n",
    "2. Pastikan *path* Terminal adalah folder repositori kalian (NIM-Nama-Prokom).\n",
    "3. Tambahkan file yang akan ditrack dengan `git add <nama file>`. Nama file bisa diubah . (titik)  `git add .`yang artinya semua file dalam folder akan ditrack.\n",
    "4. Lakukan commit perubahan dengan `git commit -m <deskripsi>`.\n",
    "5. Lakukan push dengan `git push -u origin <nama branch>`. Nama branch dapat diketahui dengan `git branch`.\n",
    "6. Pastikan Exercise-02 telah terupload dan dapat diakses di repositori dengan mengaksesnya di browser."
   ]
  }
 ],
 "metadata": {
  "interpreter": {
   "hash": "ac59ebe37160ed0dfa835113d9b8498d9f09ceb179beaac4002f036b9467c963"
  },
  "kernelspec": {
   "display_name": "Python 3.9.8 64-bit",
   "language": "python",
   "name": "python3"
  },
  "language_info": {
   "codemirror_mode": {
    "name": "ipython",
    "version": 3
   },
   "file_extension": ".py",
   "mimetype": "text/x-python",
   "name": "python",
   "nbconvert_exporter": "python",
   "pygments_lexer": "ipython3",
   "version": "3.9.7"
  },
  "orig_nbformat": 4
 },
 "nbformat": 4,
 "nbformat_minor": 2
}
