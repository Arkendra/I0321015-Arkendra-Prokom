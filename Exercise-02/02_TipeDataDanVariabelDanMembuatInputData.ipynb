{
 "cells": [
  {
   "cell_type": "markdown",
   "metadata": {},
   "source": [
    "# Exercise 2\n",
    "\n",
    "1. Salinlah kode di bawah ini dan isilah titik-titik sesuai dengan perintah yang ada\n",
    "![](./images/02_TipeDataDanVariabel.png)"
   ]
  },
  {
   "cell_type": "code",
   "execution_count": 3,
   "metadata": {},
   "outputs": [
    {
     "name": "stdout",
     "output_type": "stream",
     "text": [
      "Nama lengkap saya adalah Arkendra Anjar Saputra\n",
      "Nama panggilan saya adalah Arken\n",
      "Umur saya saat ini adalah 19\n",
      "Tipe data variabel _umur adalah <class 'str'>\n",
      "Umur saya saat ini adalah sembilan belas tahun\n",
      "Tipe data variabel _umur adalah <class 'str'>\n",
      "Tinggi badan saya adalah 175.5\n",
      "Tipe data varibel tinggi_badan adalah <class 'str'>\n",
      "Saya merupakan mahasiswa angkatan 2021 adalah True\n",
      "Tipe data variabel mahasiswaangkatan2021 adalah <class 'str'>\n"
     ]
    }
   ],
   "source": [
    "#Kerjakan nomor satu disini\n",
    "Nama = \"Arkendra Anjar Saputra\"\n",
    "nama = \"Arken\"\n",
    "print(\"Nama lengkap saya adalah\", Nama)\n",
    "print(\"Nama panggilan saya adalah\", nama)\n",
    "_umur = \"19\"\n",
    "print(\"Umur saya saat ini adalah\", _umur)\n",
    "print(\"Tipe data variabel _umur adalah\", type(_umur))\n",
    "_umur = \"sembilan belas tahun\"\n",
    "print(\"Umur saya saat ini adalah\", _umur)\n",
    "print(\"Tipe data variabel _umur adalah\", type(_umur))\n",
    "tinggi_badan = \"175.5\"\n",
    "print(\"Tinggi badan saya adalah\", tinggi_badan)\n",
    "print(\"Tipe data varibel tinggi_badan adalah\", type(tinggi_badan))\n",
    "mahasiswaangkatan2021 = \"True\"\n",
    "print(\"Saya merupakan mahasiswa angkatan 2021 adalah\", mahasiswaangkatan2021)\n",
    "print(\"Tipe data variabel mahasiswaangkatan2021 adalah\", type(mahasiswaangkatan2021))\n"
   ]
  },
  {
   "cell_type": "markdown",
   "metadata": {},
   "source": [
    "2. Salinlah kode di bawah ini dan isilah titik-titik sesuai dengan perintah yang ada\n",
    "![](./images/02_MembuatInputData.png)"
   ]
  },
  {
   "cell_type": "code",
   "execution_count": 2,
   "metadata": {},
   "outputs": [
    {
     "name": "stdout",
     "output_type": "stream",
     "text": [
      "Program Konversi Panjang dalam Meter ke Berbagai Satuan\n",
      "\n",
      "\n",
      "9 m = 0.009 km\n",
      "9 m = 900 cm\n",
      "9 m = 9000 mm\n",
      "9 m = 9000000 μm\n",
      "9 m =  9000000000 nm\n",
      "9 m =  354.3307 in\n",
      "9 m =  29.5276 fit\n",
      "9 m =  9.8425 yard\n",
      "9 m =  0.0056 mi\n",
      "9 m =  0.0049 nmi\n"
     ]
    }
   ],
   "source": [
    "#Kerjakan nomor satu disini\n",
    "#simbol miu --> μ\n",
    "print(\"Program Konversi Panjang dalam Meter ke Berbagai Satuan\")\n",
    "print(\"\")\n",
    "lenght = int(input(\"Masukkan nilai panjang dalam meter : \"))\n",
    "feet = lenght / 0.3048\n",
    "print(\"\")\n",
    "print(lenght, \"m =\", lenght / 1000, \"km\")\n",
    "print(lenght, \"m =\", lenght * 100, \"cm\")\n",
    "print(lenght, \"m =\", lenght * 1000, \"mm\")\n",
    "print(lenght, \"m =\", lenght * 1000000, \"μm\")\n",
    "print(lenght, \"m = \", lenght * 1000000000, \"nm\")\n",
    "\n",
    "print(lenght, \"m = \", round(feet *12, 4), \"in\")\n",
    "print(lenght, \"m = \", round(feet, 4), \"fit\")\n",
    "print(lenght, \"m = \", round(feet / 3, 4), \"yard\")\n",
    "print(lenght, \"m = \", round(feet / 5280, 4), \"mi\")\n",
    "print(lenght, \"m = \", round(lenght / 1852, 4), \"nmi\")\n",
    "\n"
   ]
  },
  {
   "cell_type": "markdown",
   "metadata": {},
   "source": [
    "### Cara Pengumpulan\n",
    "\n",
    "1. Buka *New Terminal*\n",
    "2. Pastikan *path* Terminal adalah folder repositori kalian (NIM-Nama-Prokom).\n",
    "3. Tambahkan file yang akan ditrack dengan `git add <nama file>`. Nama file bisa diubah . (titik) yang artinya semua file dalam folder akan ditrack.\n",
    "4. Lakukan commit perubahan dengan `git commit -m <deskripsi>`.\n",
    "5. Lakukan push dengan `git push -u origin <nama branch>`. Nama branch dapat diketahui dengan `git branch`.\n",
    "6. Pastikan Exercise-02 telah terupload dan dapat diakses di repositori dengan mengaksesnya di browser."
   ]
  }
 ],
 "metadata": {
  "interpreter": {
   "hash": "ac59ebe37160ed0dfa835113d9b8498d9f09ceb179beaac4002f036b9467c963"
  },
  "kernelspec": {
   "display_name": "Python 3.9.8 64-bit",
   "language": "python",
   "name": "python3"
  },
  "language_info": {
   "codemirror_mode": {
    "name": "ipython",
    "version": 3
   },
   "file_extension": ".py",
   "mimetype": "text/x-python",
   "name": "python",
   "nbconvert_exporter": "python",
   "pygments_lexer": "ipython3",
   "version": "3.9.7"
  },
  "orig_nbformat": 4
 },
 "nbformat": 4,
 "nbformat_minor": 2
}
